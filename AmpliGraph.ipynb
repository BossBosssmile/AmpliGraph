{
  "nbformat": 4,
  "nbformat_minor": 0,
  "metadata": {
    "colab": {
      "provenance": [],
      "collapsed_sections": [],
      "include_colab_link": true
    },
    "kernelspec": {
      "name": "python3",
      "display_name": "Python 3"
    },
    "language_info": {
      "name": "python"
    }
  },
  "cells": [
    {
      "cell_type": "markdown",
      "metadata": {
        "id": "view-in-github",
        "colab_type": "text"
      },
      "source": [
        "<a href=\"https://colab.research.google.com/github/BossBosssmile/AmpliGraph/blob/main/AmpliGraph.ipynb\" target=\"_parent\"><img src=\"https://colab.research.google.com/assets/colab-badge.svg\" alt=\"Open In Colab\"/></a>"
      ]
    },
    {
      "cell_type": "markdown",
      "source": [
        "# Mount google drive"
      ],
      "metadata": {
        "id": "_ULhMDLyjjy8"
      }
    },
    {
      "cell_type": "code",
      "source": [
        "!pip install neo4j "
      ],
      "metadata": {
        "colab": {
          "base_uri": "https://localhost:8080/"
        },
        "id": "XNI33IseCmYv",
        "outputId": "c6005a02-dbc7-4af0-baaf-c823f7be0239"
      },
      "execution_count": null,
      "outputs": [
        {
          "output_type": "stream",
          "name": "stdout",
          "text": [
            "Requirement already satisfied: neo4j in /usr/local/lib/python3.7/dist-packages (4.4.1)\n",
            "Requirement already satisfied: pytz in /usr/local/lib/python3.7/dist-packages (from neo4j) (2018.9)\n"
          ]
        }
      ]
    },
    {
      "cell_type": "code",
      "execution_count": null,
      "metadata": {
        "colab": {
          "base_uri": "https://localhost:8080/"
        },
        "id": "MCg6DdxbhaXh",
        "outputId": "28ed044f-0dd0-4909-dcfd-7b4cc5f5d864"
      },
      "outputs": [
        {
          "output_type": "stream",
          "name": "stdout",
          "text": [
            "Drive already mounted at /content/gdrive; to attempt to forcibly remount, call drive.mount(\"/content/gdrive\", force_remount=True).\n"
          ]
        }
      ],
      "source": [
        "from google.colab import drive\n",
        "drive.mount('/content/gdrive')"
      ]
    },
    {
      "cell_type": "code",
      "source": [
        "!ls /content/gdrive/MyDrive/"
      ],
      "metadata": {
        "id": "44XTJEjJiGUR"
      },
      "execution_count": null,
      "outputs": []
    },
    {
      "cell_type": "code",
      "source": [
        "PATH = '/content/gdrive/MyDrive/'"
      ],
      "metadata": {
        "id": "rjptvjQOifjs"
      },
      "execution_count": null,
      "outputs": []
    },
    {
      "cell_type": "markdown",
      "source": [
        "# Setup and comfig"
      ],
      "metadata": {
        "id": "t10ys1Pri3hD"
      }
    },
    {
      "cell_type": "code",
      "source": [
        "!pip install ampligraph"
      ],
      "metadata": {
        "colab": {
          "base_uri": "https://localhost:8080/",
          "height": 1000
        },
        "id": "EYOLaYIujAIv",
        "outputId": "3f225efc-e433-4fe8-b623-da168d8adfea"
      },
      "execution_count": null,
      "outputs": [
        {
          "output_type": "stream",
          "name": "stdout",
          "text": [
            "Collecting ampligraph\n",
            "  Downloading ampligraph-1.4.0-py3-none-any.whl (168 kB)\n",
            "\u001b[K     |████████████████████████████████| 168 kB 9.3 MB/s \n",
            "\u001b[?25hCollecting beautifultable>=0.7.0\n",
            "  Downloading beautifultable-1.0.1-py2.py3-none-any.whl (27 kB)\n",
            "Requirement already satisfied: scikit-learn>=0.19.1 in /usr/local/lib/python3.7/dist-packages (from ampligraph) (1.0.1)\n",
            "Collecting rdflib>=4.2.2\n",
            "  Downloading rdflib-6.0.2-py3-none-any.whl (407 kB)\n",
            "\u001b[K     |████████████████████████████████| 407 kB 40.3 MB/s \n",
            "\u001b[?25hRequirement already satisfied: scipy>=1.3.0 in /usr/local/lib/python3.7/dist-packages (from ampligraph) (1.4.1)\n",
            "Requirement already satisfied: networkx>=2.3 in /usr/local/lib/python3.7/dist-packages (from ampligraph) (2.6.3)\n",
            "Requirement already satisfied: pandas>=0.23.1 in /usr/local/lib/python3.7/dist-packages (from ampligraph) (1.1.5)\n",
            "Collecting sphinx<3,>=2.2\n",
            "  Downloading Sphinx-2.4.5-py3-none-any.whl (2.7 MB)\n",
            "\u001b[K     |████████████████████████████████| 2.7 MB 26.6 MB/s \n",
            "\u001b[?25hCollecting sphinx-rtd-theme==0.4.3\n",
            "  Downloading sphinx_rtd_theme-0.4.3-py2.py3-none-any.whl (6.4 MB)\n",
            "\u001b[K     |████████████████████████████████| 6.4 MB 28.6 MB/s \n",
            "\u001b[?25hCollecting flake8>=3.7.7\n",
            "  Downloading flake8-4.0.1-py2.py3-none-any.whl (64 kB)\n",
            "\u001b[K     |████████████████████████████████| 64 kB 2.5 MB/s \n",
            "\u001b[?25hCollecting recommonmark==0.4.0\n",
            "  Downloading recommonmark-0.4.0-py2.py3-none-any.whl (9.4 kB)\n",
            "Collecting sphinxcontrib-bibtex==0.4.2\n",
            "  Downloading sphinxcontrib_bibtex-0.4.2-py2.py3-none-any.whl (15 kB)\n",
            "Requirement already satisfied: pyyaml>=3.13 in /usr/local/lib/python3.7/dist-packages (from ampligraph) (3.13)\n",
            "Requirement already satisfied: setuptools>=36 in /usr/local/lib/python3.7/dist-packages (from ampligraph) (57.4.0)\n",
            "Requirement already satisfied: numpy>=1.14.3 in /usr/local/lib/python3.7/dist-packages (from ampligraph) (1.19.5)\n",
            "Requirement already satisfied: tqdm>=4.23.4 in /usr/local/lib/python3.7/dist-packages (from ampligraph) (4.62.3)\n",
            "Requirement already satisfied: pytest>=3.5.1 in /usr/local/lib/python3.7/dist-packages (from ampligraph) (3.6.4)\n",
            "Collecting commonmark<=0.5.4\n",
            "  Downloading CommonMark-0.5.4.tar.gz (120 kB)\n",
            "\u001b[K     |████████████████████████████████| 120 kB 51.0 MB/s \n",
            "\u001b[?25hRequirement already satisfied: docutils>=0.11 in /usr/local/lib/python3.7/dist-packages (from recommonmark==0.4.0->ampligraph) (0.17.1)\n",
            "Collecting pybtex-docutils>=0.2.0\n",
            "  Downloading pybtex_docutils-1.0.1-py3-none-any.whl (4.8 kB)\n",
            "Collecting pybtex>=0.20\n",
            "  Downloading pybtex-0.24.0-py2.py3-none-any.whl (561 kB)\n",
            "\u001b[K     |████████████████████████████████| 561 kB 25.7 MB/s \n",
            "\u001b[?25hCollecting oset>=0.1.3\n",
            "  Downloading oset-0.1.3.tar.gz (7.3 kB)\n",
            "Requirement already satisfied: six>=1.4.1 in /usr/local/lib/python3.7/dist-packages (from sphinxcontrib-bibtex==0.4.2->ampligraph) (1.15.0)\n",
            "Requirement already satisfied: wcwidth in /usr/local/lib/python3.7/dist-packages (from beautifultable>=0.7.0->ampligraph) (0.2.5)\n",
            "Collecting pycodestyle<2.9.0,>=2.8.0\n",
            "  Downloading pycodestyle-2.8.0-py2.py3-none-any.whl (42 kB)\n",
            "\u001b[K     |████████████████████████████████| 42 kB 877 kB/s \n",
            "\u001b[?25hCollecting importlib-metadata<4.3\n",
            "  Downloading importlib_metadata-4.2.0-py3-none-any.whl (16 kB)\n",
            "Collecting pyflakes<2.5.0,>=2.4.0\n",
            "  Downloading pyflakes-2.4.0-py2.py3-none-any.whl (69 kB)\n",
            "\u001b[K     |████████████████████████████████| 69 kB 7.4 MB/s \n",
            "\u001b[?25hCollecting mccabe<0.7.0,>=0.6.0\n",
            "  Downloading mccabe-0.6.1-py2.py3-none-any.whl (8.6 kB)\n",
            "Requirement already satisfied: typing-extensions>=3.6.4 in /usr/local/lib/python3.7/dist-packages (from importlib-metadata<4.3->flake8>=3.7.7->ampligraph) (3.10.0.2)\n",
            "Requirement already satisfied: zipp>=0.5 in /usr/local/lib/python3.7/dist-packages (from importlib-metadata<4.3->flake8>=3.7.7->ampligraph) (3.6.0)\n",
            "Requirement already satisfied: python-dateutil>=2.7.3 in /usr/local/lib/python3.7/dist-packages (from pandas>=0.23.1->ampligraph) (2.8.2)\n",
            "Requirement already satisfied: pytz>=2017.2 in /usr/local/lib/python3.7/dist-packages (from pandas>=0.23.1->ampligraph) (2018.9)\n",
            "Collecting latexcodec>=1.0.4\n",
            "  Downloading latexcodec-2.0.1-py2.py3-none-any.whl (18 kB)\n",
            "Requirement already satisfied: atomicwrites>=1.0 in /usr/local/lib/python3.7/dist-packages (from pytest>=3.5.1->ampligraph) (1.4.0)\n",
            "Requirement already satisfied: pluggy<0.8,>=0.5 in /usr/local/lib/python3.7/dist-packages (from pytest>=3.5.1->ampligraph) (0.7.1)\n",
            "Requirement already satisfied: py>=1.5.0 in /usr/local/lib/python3.7/dist-packages (from pytest>=3.5.1->ampligraph) (1.11.0)\n",
            "Requirement already satisfied: attrs>=17.4.0 in /usr/local/lib/python3.7/dist-packages (from pytest>=3.5.1->ampligraph) (21.2.0)\n",
            "Requirement already satisfied: more-itertools>=4.0.0 in /usr/local/lib/python3.7/dist-packages (from pytest>=3.5.1->ampligraph) (8.12.0)\n",
            "Collecting isodate\n",
            "  Downloading isodate-0.6.1-py2.py3-none-any.whl (41 kB)\n",
            "\u001b[K     |████████████████████████████████| 41 kB 561 kB/s \n",
            "\u001b[?25hRequirement already satisfied: pyparsing in /usr/local/lib/python3.7/dist-packages (from rdflib>=4.2.2->ampligraph) (3.0.6)\n",
            "Requirement already satisfied: threadpoolctl>=2.0.0 in /usr/local/lib/python3.7/dist-packages (from scikit-learn>=0.19.1->ampligraph) (3.0.0)\n",
            "Requirement already satisfied: joblib>=0.11 in /usr/local/lib/python3.7/dist-packages (from scikit-learn>=0.19.1->ampligraph) (1.1.0)\n",
            "Requirement already satisfied: requests>=2.5.0 in /usr/local/lib/python3.7/dist-packages (from sphinx<3,>=2.2->ampligraph) (2.23.0)\n",
            "Collecting sphinxcontrib-htmlhelp\n",
            "  Downloading sphinxcontrib_htmlhelp-2.0.0-py2.py3-none-any.whl (100 kB)\n",
            "\u001b[K     |████████████████████████████████| 100 kB 8.9 MB/s \n",
            "\u001b[?25hRequirement already satisfied: Pygments>=2.0 in /usr/local/lib/python3.7/dist-packages (from sphinx<3,>=2.2->ampligraph) (2.6.1)\n",
            "Requirement already satisfied: alabaster<0.8,>=0.7 in /usr/local/lib/python3.7/dist-packages (from sphinx<3,>=2.2->ampligraph) (0.7.12)\n",
            "Collecting sphinxcontrib-devhelp\n",
            "  Downloading sphinxcontrib_devhelp-1.0.2-py2.py3-none-any.whl (84 kB)\n",
            "\u001b[K     |████████████████████████████████| 84 kB 3.3 MB/s \n",
            "\u001b[?25hRequirement already satisfied: sphinxcontrib-serializinghtml in /usr/local/lib/python3.7/dist-packages (from sphinx<3,>=2.2->ampligraph) (1.1.5)\n",
            "Collecting sphinxcontrib-qthelp\n",
            "  Downloading sphinxcontrib_qthelp-1.0.3-py2.py3-none-any.whl (90 kB)\n",
            "\u001b[K     |████████████████████████████████| 90 kB 9.1 MB/s \n",
            "\u001b[?25hRequirement already satisfied: babel!=2.0,>=1.3 in /usr/local/lib/python3.7/dist-packages (from sphinx<3,>=2.2->ampligraph) (2.9.1)\n",
            "Requirement already satisfied: Jinja2>=2.3 in /usr/local/lib/python3.7/dist-packages (from sphinx<3,>=2.2->ampligraph) (2.11.3)\n",
            "Requirement already satisfied: imagesize in /usr/local/lib/python3.7/dist-packages (from sphinx<3,>=2.2->ampligraph) (1.3.0)\n",
            "Requirement already satisfied: packaging in /usr/local/lib/python3.7/dist-packages (from sphinx<3,>=2.2->ampligraph) (21.3)\n",
            "Requirement already satisfied: snowballstemmer>=1.1 in /usr/local/lib/python3.7/dist-packages (from sphinx<3,>=2.2->ampligraph) (2.2.0)\n",
            "Collecting sphinxcontrib-jsmath\n",
            "  Downloading sphinxcontrib_jsmath-1.0.1-py2.py3-none-any.whl (5.1 kB)\n",
            "Collecting sphinxcontrib-applehelp\n",
            "  Downloading sphinxcontrib_applehelp-1.0.2-py2.py3-none-any.whl (121 kB)\n",
            "\u001b[K     |████████████████████████████████| 121 kB 59.8 MB/s \n",
            "\u001b[?25hRequirement already satisfied: MarkupSafe>=0.23 in /usr/local/lib/python3.7/dist-packages (from Jinja2>=2.3->sphinx<3,>=2.2->ampligraph) (2.0.1)\n",
            "Requirement already satisfied: chardet<4,>=3.0.2 in /usr/local/lib/python3.7/dist-packages (from requests>=2.5.0->sphinx<3,>=2.2->ampligraph) (3.0.4)\n",
            "Requirement already satisfied: urllib3!=1.25.0,!=1.25.1,<1.26,>=1.21.1 in /usr/local/lib/python3.7/dist-packages (from requests>=2.5.0->sphinx<3,>=2.2->ampligraph) (1.24.3)\n",
            "Requirement already satisfied: certifi>=2017.4.17 in /usr/local/lib/python3.7/dist-packages (from requests>=2.5.0->sphinx<3,>=2.2->ampligraph) (2021.10.8)\n",
            "Requirement already satisfied: idna<3,>=2.5 in /usr/local/lib/python3.7/dist-packages (from requests>=2.5.0->sphinx<3,>=2.2->ampligraph) (2.10)\n",
            "Building wheels for collected packages: commonmark, oset\n",
            "  Building wheel for commonmark (setup.py) ... \u001b[?25l\u001b[?25hdone\n",
            "  Created wheel for commonmark: filename=CommonMark-0.5.4-py3-none-any.whl size=30766 sha256=57df75bf6cad6d8f016a2a9cf3864a550411bf8259678a55761312040e46d18e\n",
            "  Stored in directory: /root/.cache/pip/wheels/d5/28/c7/ce1ffdf847bcfcfa332299c572b26819dc38383180bb5b9072\n",
            "  Building wheel for oset (setup.py) ... \u001b[?25l\u001b[?25hdone\n",
            "  Created wheel for oset: filename=oset-0.1.3-py3-none-any.whl size=9685 sha256=7caff5fd43b1afd6a98e2a6ba76795b470118e2e6b16169d108afb55f8d4923f\n",
            "  Stored in directory: /root/.cache/pip/wheels/d3/97/cf/cfafe0bedac445a9492baca15b27f8afb4693182b00a975ac7\n",
            "Successfully built commonmark oset\n",
            "Installing collected packages: latexcodec, sphinxcontrib-qthelp, sphinxcontrib-jsmath, sphinxcontrib-htmlhelp, sphinxcontrib-devhelp, sphinxcontrib-applehelp, pybtex, sphinx, pyflakes, pycodestyle, pybtex-docutils, oset, mccabe, isodate, importlib-metadata, commonmark, sphinxcontrib-bibtex, sphinx-rtd-theme, recommonmark, rdflib, flake8, beautifultable, ampligraph\n",
            "  Attempting uninstall: sphinx\n",
            "    Found existing installation: Sphinx 1.8.6\n",
            "    Uninstalling Sphinx-1.8.6:\n",
            "      Successfully uninstalled Sphinx-1.8.6\n",
            "  Attempting uninstall: importlib-metadata\n",
            "    Found existing installation: importlib-metadata 4.8.2\n",
            "    Uninstalling importlib-metadata-4.8.2:\n",
            "      Successfully uninstalled importlib-metadata-4.8.2\n",
            "\u001b[31mERROR: pip's dependency resolver does not currently take into account all the packages that are installed. This behaviour is the source of the following dependency conflicts.\n",
            "markdown 3.3.6 requires importlib-metadata>=4.4; python_version < \"3.10\", but you have importlib-metadata 4.2.0 which is incompatible.\n",
            "datascience 0.10.6 requires folium==0.2.1, but you have folium 0.8.3 which is incompatible.\u001b[0m\n",
            "Successfully installed ampligraph-1.4.0 beautifultable-1.0.1 commonmark-0.5.4 flake8-4.0.1 importlib-metadata-4.2.0 isodate-0.6.1 latexcodec-2.0.1 mccabe-0.6.1 oset-0.1.3 pybtex-0.24.0 pybtex-docutils-1.0.1 pycodestyle-2.8.0 pyflakes-2.4.0 rdflib-6.0.2 recommonmark-0.4.0 sphinx-2.4.5 sphinx-rtd-theme-0.4.3 sphinxcontrib-applehelp-1.0.2 sphinxcontrib-bibtex-0.4.2 sphinxcontrib-devhelp-1.0.2 sphinxcontrib-htmlhelp-2.0.0 sphinxcontrib-jsmath-1.0.1 sphinxcontrib-qthelp-1.0.3\n"
          ]
        },
        {
          "output_type": "display_data",
          "data": {
            "application/vnd.colab-display-data+json": {
              "pip_warning": {
                "packages": [
                  "sphinxcontrib"
                ]
              }
            }
          },
          "metadata": {}
        }
      ]
    },
    {
      "cell_type": "code",
      "source": [
        "class Neo4jConnection:\n",
        "    \n",
        "    def __init__(self, uri, user, pwd):\n",
        "        self.__uri = uri\n",
        "        self.__user = user\n",
        "        self.__pwd = pwd\n",
        "        self.__driver = None\n",
        "        try:\n",
        "            self.__driver = GraphDatabase.driver(self.__uri, auth=(self.__user, self.__pwd))\n",
        "        except Exception as e:\n",
        "            print(\"Failed to create the driver:\", e)\n",
        "        \n",
        "    def close(self):\n",
        "        if self.__driver is not None:\n",
        "            self.__driver.close()\n",
        "        \n",
        "    def query(self, query, parameters=None, db=None):\n",
        "        assert self.__driver is not None, \"Driver not initialized!\"\n",
        "        session = None\n",
        "        response = None\n",
        "        try: \n",
        "            session = self.__driver.session(database=db) if db is not None else self.__driver.session() \n",
        "            response = list(session.run(query, parameters))\n",
        "        except Exception as e:\n",
        "            print(\"Query failed:\", e)\n",
        "        finally: \n",
        "            if session is not None:\n",
        "                session.close()\n",
        "        return response"
      ],
      "metadata": {
        "id": "6C8bbg9UBxrm"
      },
      "execution_count": null,
      "outputs": []
    },
    {
      "cell_type": "code",
      "source": [
        "host = \"bolt://3.239.105.70:7687\"\n",
        "user = \"neo4j\"\n",
        "password = \"shafts-jug-gum\"\n",
        "\n",
        "# connect to neo4j\n",
        "conn = Neo4jConnection(uri=host, user=user, pwd=password)"
      ],
      "metadata": {
        "id": "XsWfDQyCCBsU"
      },
      "execution_count": null,
      "outputs": []
    },
    {
      "cell_type": "code",
      "source": [
        "query = \"\"\"\n",
        "MATCH (s)-[r]->(t)\n",
        "RETURN properties(s).identify_name as head, properties(t).identify_name AS tail, type(r) as relation\n",
        "\"\"\"\n",
        "\n",
        "a = conn.query(query); a"
      ],
      "metadata": {
        "id": "f54UKpDDCbTB"
      },
      "execution_count": null,
      "outputs": []
    },
    {
      "cell_type": "code",
      "source": [
        "!pip uninstall tensorflow\n",
        "!pip install tensorflow==1.15.2"
      ],
      "metadata": {
        "id": "TnGAXnm8mLD7"
      },
      "execution_count": null,
      "outputs": []
    },
    {
      "cell_type": "code",
      "source": [
        "import numpy as np\n",
        "import pandas as pd\n",
        "import ampligraph\n",
        "import matplotlib.pyplot as plt\n",
        "import seaborn as sns\n",
        "\n",
        "from neo4j import GraphDatabase\n",
        "from ampligraph.evaluation import train_test_split_no_unseen\n",
        "from ampligraph.datasets import load_from_csv\n",
        "from ampligraph.latent_features import ComplEx\n",
        "from ampligraph.evaluation import evaluate_performance\n",
        "from ampligraph.evaluation import mr_score, mrr_score, hits_at_n_score\n",
        "from ampligraph.latent_features import save_model, restore_model\n",
        "import tensorflow as tf"
      ],
      "metadata": {
        "id": "Jf1rWI9vihFe"
      },
      "execution_count": null,
      "outputs": []
    },
    {
      "cell_type": "markdown",
      "source": [
        "# EDA"
      ],
      "metadata": {
        "id": "Z5vI45injxSw"
      }
    },
    {
      "cell_type": "markdown",
      "source": [
        "## Load dataset"
      ],
      "metadata": {
        "id": "nTnMOz63j4me"
      }
    },
    {
      "cell_type": "code",
      "source": [
        "X = np.array([i.values() for i in a])\n",
        "X"
      ],
      "metadata": {
        "colab": {
          "base_uri": "https://localhost:8080/"
        },
        "id": "IKzjeJzCDOJt",
        "outputId": "d68ee71a-aac2-437b-d7e7-5ba3ead04c4f"
      },
      "execution_count": null,
      "outputs": [
        {
          "output_type": "execute_result",
          "data": {
            "text/plain": [
              "array([['BANGKOK AND SURROUNDING', 'THAILAND', 'part_of'],\n",
              "       ['INCEPTION', 'ACTION', 'type_of'],\n",
              "       ['INCEPTION', 'SCIENCE FICTION', 'type_of'],\n",
              "       ...,\n",
              "       ['LIVERPOOL', 'CITY', 'is_a'],\n",
              "       ['PARIS', 'FRANCE', 'part_of'],\n",
              "       ['PARIS', 'CITY', 'is_a']], dtype='<U42')"
            ]
          },
          "metadata": {},
          "execution_count": 17
        }
      ]
    },
    {
      "cell_type": "code",
      "source": [
        "X.shape"
      ],
      "metadata": {
        "colab": {
          "base_uri": "https://localhost:8080/"
        },
        "id": "dWZjYe1NldPE",
        "outputId": "670727ae-a574-421a-fedf-bd4a3e8e7a6d"
      },
      "execution_count": null,
      "outputs": [
        {
          "output_type": "execute_result",
          "data": {
            "text/plain": [
              "(1264, 3)"
            ]
          },
          "metadata": {},
          "execution_count": 18
        }
      ]
    },
    {
      "cell_type": "code",
      "source": [
        "sns.set_theme(rc = {'figure.figsize':(20,8)},\n",
        "              style=\"whitegrid\")\n",
        "sns.histplot(X[:,1])"
      ],
      "metadata": {
        "colab": {
          "base_uri": "https://localhost:8080/",
          "height": 522
        },
        "id": "FPe9F1XEaJSz",
        "outputId": "81786612-c8ae-4e0f-b55d-6c558e55e325"
      },
      "execution_count": null,
      "outputs": [
        {
          "output_type": "execute_result",
          "data": {
            "text/plain": [
              "<matplotlib.axes._subplots.AxesSubplot at 0x7f9355218350>"
            ]
          },
          "metadata": {},
          "execution_count": 38
        },
        {
          "output_type": "display_data",
          "data": {
            "image/png": "[encoded data removed]",
            "text/plain": [
              "<Figure size 1440x576 with 1 Axes>"
            ]
          },
          "metadata": {}
        }
      ]
    },
    {
      "cell_type": "code",
      "source": [],
      "metadata": {
        "id": "XAS8zdv_szks"
      },
      "execution_count": null,
      "outputs": []
    },
    {
      "cell_type": "markdown",
      "source": [
        "# Defining Train and Test datasets\n"
      ],
      "metadata": {
        "id": "oSg4Fb8_s0cG"
      }
    },
    {
      "cell_type": "code",
      "source": [
        "num_test = int(len(X) * 0.2)\n",
        "\n",
        "data = {}\n",
        "data['train'], data['test'] = train_test_split_no_unseen(X, test_size=num_test, seed=0, allow_duplication=False) \n",
        "\n",
        "print('Train set size: ', data['train'].shape)\n",
        "print('Test set size: ', data['test'].shape)"
      ],
      "metadata": {
        "colab": {
          "base_uri": "https://localhost:8080/"
        },
        "id": "R6-fJhiWlqN9",
        "outputId": "4cd11d3c-a50c-4309-a047-33b6ce19ad2e"
      },
      "execution_count": null,
      "outputs": [
        {
          "output_type": "stream",
          "name": "stdout",
          "text": [
            "Train set size:  (1012, 3)\n",
            "Test set size:  (252, 3)\n"
          ]
        }
      ]
    },
    {
      "cell_type": "markdown",
      "source": [
        "# Training a model"
      ],
      "metadata": {
        "id": "_u4VpXjy_WmK"
      }
    },
    {
      "cell_type": "code",
      "source": [
        "model = ComplEx(batches_count=100, \n",
        "                seed=0, \n",
        "                epochs=200, \n",
        "                k=150, \n",
        "                eta=5,\n",
        "                optimizer='adam', \n",
        "                optimizer_params={'lr':1e-3},\n",
        "                loss='multiclass_nll', \n",
        "                regularizer='LP', \n",
        "                regularizer_params={'p':3, 'lambda':1e-5}, \n",
        "                verbose=True)"
      ],
      "metadata": {
        "id": "paJQNobBl4J_"
      },
      "execution_count": null,
      "outputs": []
    },
    {
      "cell_type": "markdown",
      "source": [
        "# Filtering negatives"
      ],
      "metadata": {
        "id": "xiFTymzo_gOt"
      }
    },
    {
      "cell_type": "code",
      "source": [
        "positives_filter = X"
      ],
      "metadata": {
        "id": "6q5SCyB_oH0B"
      },
      "execution_count": null,
      "outputs": []
    },
    {
      "cell_type": "code",
      "source": [
        "tf.logging.set_verbosity(tf.logging.ERROR)\n",
        "\n",
        "model.fit(data['train'], early_stopping = False)"
      ],
      "metadata": {
        "colab": {
          "base_uri": "https://localhost:8080/"
        },
        "id": "-kxrxXyrl7Fj",
        "outputId": "3bbd5161-419b-4549-dad2-8bdfc6f1685e"
      },
      "execution_count": null,
      "outputs": [
        {
          "output_type": "stream",
          "name": "stderr",
          "text": [
            "Average ComplEx Loss:   0.057000: 100%|██████████| 200/200 [01:05<00:00,  3.07epoch/s]\n"
          ]
        }
      ]
    },
    {
      "cell_type": "markdown",
      "source": [
        "# Saving and restoring a model"
      ],
      "metadata": {
        "id": "cH-uo-XC_036"
      }
    },
    {
      "cell_type": "code",
      "source": [
        "save_model(model, './best_model.pkl')"
      ],
      "metadata": {
        "id": "DkcyKU90_0IV"
      },
      "execution_count": null,
      "outputs": []
    },
    {
      "cell_type": "code",
      "source": [
        "del model"
      ],
      "metadata": {
        "id": "vQeU4Q3iAYFZ"
      },
      "execution_count": null,
      "outputs": []
    },
    {
      "cell_type": "code",
      "source": [
        "model = restore_model('./best_model.pkl')"
      ],
      "metadata": {
        "id": "8wTtnqHqAWO2"
      },
      "execution_count": null,
      "outputs": []
    },
    {
      "cell_type": "code",
      "source": [
        "if model.is_fitted:\n",
        "    print('The model is fit!')\n",
        "else:\n",
        "    print('The model is not fit! Did you skip a step?')"
      ],
      "metadata": {
        "colab": {
          "base_uri": "https://localhost:8080/"
        },
        "id": "Asq2IirTAjyt",
        "outputId": "081cb73e-9b25-46a6-de19-90a482450b06"
      },
      "execution_count": null,
      "outputs": [
        {
          "output_type": "stream",
          "name": "stdout",
          "text": [
            "The model is fit!\n"
          ]
        }
      ]
    },
    {
      "cell_type": "markdown",
      "source": [
        "# Evaluating a model"
      ],
      "metadata": {
        "id": "_Jd0ElsWCVfx"
      }
    },
    {
      "cell_type": "code",
      "source": [
        "ranks = evaluate_performance(data['test'], \n",
        "                             model=model, \n",
        "                             filter_triples=positives_filter,   # Corruption strategy filter defined above \n",
        "                             use_default_protocol=True, # corrupt subj and obj separately while evaluating\n",
        "                             verbose=True)"
      ],
      "metadata": {
        "colab": {
          "base_uri": "https://localhost:8080/"
        },
        "id": "4LvQNg1Xl7t_",
        "outputId": "6bc3a50e-1af2-48cf-e556-ed55b63ed8f6"
      },
      "execution_count": null,
      "outputs": [
        {
          "output_type": "stream",
          "name": "stdout",
          "text": [
            "WARNING - DeprecationWarning: use_default_protocol will be removed in future. Please use corrupt_side argument instead.\n"
          ]
        },
        {
          "output_type": "stream",
          "name": "stderr",
          "text": [
            "100%|██████████| 252/252 [00:00<00:00, 258.94it/s]\n"
          ]
        }
      ]
    },
    {
      "cell_type": "code",
      "source": [
        "mrr = mrr_score(ranks)\n",
        "print(\"MRR: %.2f\" % (mrr))\n",
        "\n",
        "hits_10 = hits_at_n_score(ranks, n=10)\n",
        "print(\"Hits@10: %.2f\" % (hits_10))\n",
        "hits_3 = hits_at_n_score(ranks, n=3)\n",
        "print(\"Hits@3: %.2f\" % (hits_3))\n",
        "hits_1 = hits_at_n_score(ranks, n=1)\n",
        "print(\"Hits@1: %.2f\" % (hits_1))"
      ],
      "metadata": {
        "colab": {
          "base_uri": "https://localhost:8080/"
        },
        "id": "we3c8Ib0nlaU",
        "outputId": "028710f0-e52f-4ec5-c9f5-1ee0f4d96dda"
      },
      "execution_count": null,
      "outputs": [
        {
          "output_type": "stream",
          "name": "stdout",
          "text": [
            "MRR: 0.33\n",
            "Hits@10: 0.55\n",
            "Hits@3: 0.37\n",
            "Hits@1: 0.22\n"
          ]
        }
      ]
    },
    {
      "cell_type": "markdown",
      "source": [
        "## Predicting New Links"
      ],
      "metadata": {
        "id": "570yXpU4C3yF"
      }
    },
    {
      "cell_type": "code",
      "source": [
        "X_food = np.array([\n",
        "    ['P001', 'like', 'COPPER'],\n",
        "    ['P001', 'like', 'MOMO PARADISE'],\n",
        "    ['P001', 'like', 'TEENOI'],\n",
        "    ['P001', 'like', 'KOSIRAE'],\n",
        "    ['P002', 'like', 'TENJO'],\n",
        "    ['P002', 'like', 'KOSIRAE'],\n",
        "    ['P002', 'like', 'TOKPOKI'],\n",
        "    ['P002', 'like', 'BAR B Q PLAZA'],\n",
        "    ['P003', 'like', 'SHABU'],\n",
        "    ['P003', 'like', 'GRILLED PORK'],\n",
        "    ['P003', 'like', 'RODDEEDED'],\n",
        "    ['P003', 'like', 'BURNT SEA'],\n",
        "    ['P004', 'like', 'YANGNOEY'],\n",
        "    ['P004', 'like', 'TENJO'],\n",
        "    ['P004', 'like', 'KOSIRAE'],\n",
        "    ['P004', 'like', 'YANGNOEY'],\n",
        "    \n",
        "])"
      ],
      "metadata": {
        "id": "CWCJT6VFW7Hb"
      },
      "execution_count": null,
      "outputs": []
    },
    {
      "cell_type": "code",
      "source": [
        "food_filter = np.array(list({tuple(i) for i in np.vstack((positives_filter, X_food))}))\n",
        "\n",
        "ranks_unseen = evaluate_performance(\n",
        "    X_food, \n",
        "    model=model, \n",
        "    filter_triples=food_filter,   # Corruption strategy filter defined above \n",
        "    corrupt_side = 's+o',\n",
        "    use_default_protocol=False, # corrupt subj and obj separately while evaluating\n",
        "    verbose=True\n",
        ")\n",
        "\n",
        "scores = model.predict(X_food)"
      ],
      "metadata": {
        "colab": {
          "base_uri": "https://localhost:8080/"
        },
        "id": "0KLjxHdXXA9a",
        "outputId": "115e6324-f471-42a5-9bd6-105466fcae88"
      },
      "execution_count": null,
      "outputs": [
        {
          "output_type": "stream",
          "name": "stderr",
          "text": [
            "100%|██████████| 16/16 [00:00<00:00, 134.48it/s]\n"
          ]
        }
      ]
    },
    {
      "cell_type": "code",
      "source": [
        "from scipy.special import expit\n",
        "probs = expit(scores)\n",
        "\n",
        "pd.DataFrame(list(zip([' '.join(x) for x in X_food], \n",
        "                      ranks_unseen, \n",
        "                      np.squeeze(scores),\n",
        "                      np.squeeze(probs))), \n",
        "             columns=['statement', 'rank', 'score', 'prob']).sort_values(\"score\")"
      ],
      "metadata": {
        "colab": {
          "base_uri": "https://localhost:8080/",
          "height": 551
        },
        "id": "GBmZ5fzRnSTl",
        "outputId": "b4241b47-9da1-4c18-cf4f-1336ec6f3871"
      },
      "execution_count": null,
      "outputs": [
        {
          "output_type": "execute_result",
          "data": {
            "text/html": [
              "\n",
              "  <div id=\"df-bc2ece1b-59b6-4879-87b3-8ce33c2d11bf\">\n",
              "    <div class=\"colab-df-container\">\n",
              "      <div>\n",
              "<style scoped>\n",
              "    .dataframe tbody tr th:only-of-type {\n",
              "        vertical-align: middle;\n",
              "    }\n",
              "\n",
              "    .dataframe tbody tr th {\n",
              "        vertical-align: top;\n",
              "    }\n",
              "\n",
              "    .dataframe thead th {\n",
              "        text-align: right;\n",
              "    }\n",
              "</style>\n",
              "<table border=\"1\" class=\"dataframe\">\n",
              "  <thead>\n",
              "    <tr style=\"text-align: right;\">\n",
              "      <th></th>\n",
              "      <th>statement</th>\n",
              "      <th>rank</th>\n",
              "      <th>score</th>\n",
              "      <th>prob</th>\n",
              "    </tr>\n",
              "  </thead>\n",
              "  <tbody>\n",
              "    <tr>\n",
              "      <th>6</th>\n",
              "      <td>P002 like TOKPOKI</td>\n",
              "      <td>469</td>\n",
              "      <td>-0.532485</td>\n",
              "      <td>0.369938</td>\n",
              "    </tr>\n",
              "    <tr>\n",
              "      <th>10</th>\n",
              "      <td>P003 like RODDEEDED</td>\n",
              "      <td>423</td>\n",
              "      <td>-0.527439</td>\n",
              "      <td>0.371114</td>\n",
              "    </tr>\n",
              "    <tr>\n",
              "      <th>0</th>\n",
              "      <td>P001 like COPPER</td>\n",
              "      <td>178</td>\n",
              "      <td>0.751685</td>\n",
              "      <td>0.679546</td>\n",
              "    </tr>\n",
              "    <tr>\n",
              "      <th>2</th>\n",
              "      <td>P001 like TEENOI</td>\n",
              "      <td>105</td>\n",
              "      <td>1.772106</td>\n",
              "      <td>0.854719</td>\n",
              "    </tr>\n",
              "    <tr>\n",
              "      <th>13</th>\n",
              "      <td>P004 like TENJO</td>\n",
              "      <td>91</td>\n",
              "      <td>2.105206</td>\n",
              "      <td>0.891408</td>\n",
              "    </tr>\n",
              "    <tr>\n",
              "      <th>4</th>\n",
              "      <td>P002 like TENJO</td>\n",
              "      <td>101</td>\n",
              "      <td>2.785303</td>\n",
              "      <td>0.941876</td>\n",
              "    </tr>\n",
              "    <tr>\n",
              "      <th>11</th>\n",
              "      <td>P003 like BURNT SEA</td>\n",
              "      <td>64</td>\n",
              "      <td>3.655827</td>\n",
              "      <td>0.974811</td>\n",
              "    </tr>\n",
              "    <tr>\n",
              "      <th>8</th>\n",
              "      <td>P003 like SHABU</td>\n",
              "      <td>55</td>\n",
              "      <td>4.092797</td>\n",
              "      <td>0.983582</td>\n",
              "    </tr>\n",
              "    <tr>\n",
              "      <th>1</th>\n",
              "      <td>P001 like MOMO PARADISE</td>\n",
              "      <td>8</td>\n",
              "      <td>4.590352</td>\n",
              "      <td>0.989953</td>\n",
              "    </tr>\n",
              "    <tr>\n",
              "      <th>3</th>\n",
              "      <td>P001 like KOSIRAE</td>\n",
              "      <td>12</td>\n",
              "      <td>4.995424</td>\n",
              "      <td>0.993277</td>\n",
              "    </tr>\n",
              "    <tr>\n",
              "      <th>14</th>\n",
              "      <td>P004 like KOSIRAE</td>\n",
              "      <td>23</td>\n",
              "      <td>5.562616</td>\n",
              "      <td>0.996176</td>\n",
              "    </tr>\n",
              "    <tr>\n",
              "      <th>12</th>\n",
              "      <td>P004 like YANGNOEY</td>\n",
              "      <td>6</td>\n",
              "      <td>6.998442</td>\n",
              "      <td>0.999088</td>\n",
              "    </tr>\n",
              "    <tr>\n",
              "      <th>15</th>\n",
              "      <td>P004 like YANGNOEY</td>\n",
              "      <td>6</td>\n",
              "      <td>6.998442</td>\n",
              "      <td>0.999088</td>\n",
              "    </tr>\n",
              "    <tr>\n",
              "      <th>7</th>\n",
              "      <td>P002 like BAR B Q PLAZA</td>\n",
              "      <td>3</td>\n",
              "      <td>9.462004</td>\n",
              "      <td>0.999922</td>\n",
              "    </tr>\n",
              "    <tr>\n",
              "      <th>9</th>\n",
              "      <td>P003 like GRILLED PORK</td>\n",
              "      <td>2</td>\n",
              "      <td>11.668879</td>\n",
              "      <td>0.999991</td>\n",
              "    </tr>\n",
              "    <tr>\n",
              "      <th>5</th>\n",
              "      <td>P002 like KOSIRAE</td>\n",
              "      <td>1</td>\n",
              "      <td>13.953335</td>\n",
              "      <td>0.999999</td>\n",
              "    </tr>\n",
              "  </tbody>\n",
              "</table>\n",
              "</div>\n",
              "      <button class=\"colab-df-convert\" onclick=\"convertToInteractive('df-bc2ece1b-59b6-4879-87b3-8ce33c2d11bf')\"\n",
              "              title=\"Convert this dataframe to an interactive table.\"\n",
              "              style=\"display:none;\">\n",
              "        \n",
              "  <svg xmlns=\"http://www.w3.org/2000/svg\" height=\"24px\"viewBox=\"0 0 24 24\"\n",
              "       width=\"24px\">\n",
              "    <path d=\"M0 0h24v24H0V0z\" fill=\"none\"/>\n",
              "    <path d=\"M18.56 5.44l.94 2.06.94-2.06 2.06-.94-2.06-.94-.94-2.06-.94 2.06-2.06.94zm-11 1L8.5 8.5l.94-2.06 2.06-.94-2.06-.94L8.5 2.5l-.94 2.06-2.06.94zm10 10l.94 2.06.94-2.06 2.06-.94-2.06-.94-.94-2.06-.94 2.06-2.06.94z\"/><path d=\"M17.41 7.96l-1.37-1.37c-.4-.4-.92-.59-1.43-.59-.52 0-1.04.2-1.43.59L10.3 9.45l-7.72 7.72c-.78.78-.78 2.05 0 2.83L4 21.41c.39.39.9.59 1.41.59.51 0 1.02-.2 1.41-.59l7.78-7.78 2.81-2.81c.8-.78.8-2.07 0-2.86zM5.41 20L4 18.59l7.72-7.72 1.47 1.35L5.41 20z\"/>\n",
              "  </svg>\n",
              "      </button>\n",
              "      \n",
              "  <style>\n",
              "    .colab-df-container {\n",
              "      display:flex;\n",
              "      flex-wrap:wrap;\n",
              "      gap: 12px;\n",
              "    }\n",
              "\n",
              "    .colab-df-convert {\n",
              "      background-color: #E8F0FE;\n",
              "      border: none;\n",
              "      border-radius: 50%;\n",
              "      cursor: pointer;\n",
              "      display: none;\n",
              "      fill: #1967D2;\n",
              "      height: 32px;\n",
              "      padding: 0 0 0 0;\n",
              "      width: 32px;\n",
              "    }\n",
              "\n",
              "    .colab-df-convert:hover {\n",
              "      background-color: #E2EBFA;\n",
              "      box-shadow: 0px 1px 2px rgba(60, 64, 67, 0.3), 0px 1px 3px 1px rgba(60, 64, 67, 0.15);\n",
              "      fill: #174EA6;\n",
              "    }\n",
              "\n",
              "    [theme=dark] .colab-df-convert {\n",
              "      background-color: #3B4455;\n",
              "      fill: #D2E3FC;\n",
              "    }\n",
              "\n",
              "    [theme=dark] .colab-df-convert:hover {\n",
              "      background-color: #434B5C;\n",
              "      box-shadow: 0px 1px 3px 1px rgba(0, 0, 0, 0.15);\n",
              "      filter: drop-shadow(0px 1px 2px rgba(0, 0, 0, 0.3));\n",
              "      fill: #FFFFFF;\n",
              "    }\n",
              "  </style>\n",
              "\n",
              "      <script>\n",
              "        const buttonEl =\n",
              "          document.querySelector('#df-bc2ece1b-59b6-4879-87b3-8ce33c2d11bf button.colab-df-convert');\n",
              "        buttonEl.style.display =\n",
              "          google.colab.kernel.accessAllowed ? 'block' : 'none';\n",
              "\n",
              "        async function convertToInteractive(key) {\n",
              "          const element = document.querySelector('#df-bc2ece1b-59b6-4879-87b3-8ce33c2d11bf');\n",
              "          const dataTable =\n",
              "            await google.colab.kernel.invokeFunction('convertToInteractive',\n",
              "                                                     [key], {});\n",
              "          if (!dataTable) return;\n",
              "\n",
              "          const docLinkHtml = 'Like what you see? Visit the ' +\n",
              "            '<a target=\"_blank\" href=https://colab.research.google.com/notebooks/data_table.ipynb>data table notebook</a>'\n",
              "            + ' to learn more about interactive tables.';\n",
              "          element.innerHTML = '';\n",
              "          dataTable['output_type'] = 'display_data';\n",
              "          await google.colab.output.renderOutput(dataTable, element);\n",
              "          const docLink = document.createElement('div');\n",
              "          docLink.innerHTML = docLinkHtml;\n",
              "          element.appendChild(docLink);\n",
              "        }\n",
              "      </script>\n",
              "    </div>\n",
              "  </div>\n",
              "  "
            ],
            "text/plain": [
              "                  statement  rank      score      prob\n",
              "6         P002 like TOKPOKI   469  -0.532485  0.369938\n",
              "10      P003 like RODDEEDED   423  -0.527439  0.371114\n",
              "0          P001 like COPPER   178   0.751685  0.679546\n",
              "2          P001 like TEENOI   105   1.772106  0.854719\n",
              "13          P004 like TENJO    91   2.105206  0.891408\n",
              "4           P002 like TENJO   101   2.785303  0.941876\n",
              "11      P003 like BURNT SEA    64   3.655827  0.974811\n",
              "8           P003 like SHABU    55   4.092797  0.983582\n",
              "1   P001 like MOMO PARADISE     8   4.590352  0.989953\n",
              "3         P001 like KOSIRAE    12   4.995424  0.993277\n",
              "14        P004 like KOSIRAE    23   5.562616  0.996176\n",
              "12       P004 like YANGNOEY     6   6.998442  0.999088\n",
              "15       P004 like YANGNOEY     6   6.998442  0.999088\n",
              "7   P002 like BAR B Q PLAZA     3   9.462004  0.999922\n",
              "9    P003 like GRILLED PORK     2  11.668879  0.999991\n",
              "5         P002 like KOSIRAE     1  13.953335  0.999999"
            ]
          },
          "metadata": {},
          "execution_count": 87
        }
      ]
    },
    {
      "cell_type": "code",
      "source": [
        "X_game = np.array([\n",
        "    ['P001', 'like', 'ROV'],\n",
        "    ['P001', 'like', 'WARCRAFT'],\n",
        "    ['P001', 'like', 'MAPLE STORY'],\n",
        "    ['P001', 'like', 'ALIEN SHOOTER'],\n",
        "    ['P002', 'like', 'PUBG'],\n",
        "    ['P002', 'like', 'DOTA'],\n",
        "    ['P002', 'like', 'UNO ONLINE'],\n",
        "    ['P002', 'like', 'BATTLEFIELD'],\n",
        "    ['P003', 'like', 'WALKR'],\n",
        "    ['P003', 'like', 'LOL'],\n",
        "    ['P003', 'like', 'CALL OF CTHULU'],\n",
        "    ['P003', 'like', 'PANGYA'],\n",
        "    ['P004', 'like', 'CIVILIZATION'],\n",
        "    ['P004', 'like', 'FIFA'],\n",
        "    ['P004', 'like', 'GENSHIN IMPACT'],\n",
        "    ['P004', 'like', 'CITIES SKYLINE'],\n",
        "        \n",
        "])"
      ],
      "metadata": {
        "id": "60XLdZp0aDUc"
      },
      "execution_count": null,
      "outputs": []
    },
    {
      "cell_type": "code",
      "source": [
        "game_filter = np.array(list({tuple(i) for i in np.vstack((positives_filter, X_game))}))\n",
        "\n",
        "ranks_unseen = evaluate_performance(\n",
        "    X_game, \n",
        "    model=model, \n",
        "    filter_triples=food_filter,   # Corruption strategy filter defined above \n",
        "    corrupt_side = 's+o',\n",
        "    use_default_protocol=False, # corrupt subj and obj separately while evaluating\n",
        "    verbose=True\n",
        ")\n",
        "\n",
        "scores = model.predict(X_game)"
      ],
      "metadata": {
        "colab": {
          "base_uri": "https://localhost:8080/"
        },
        "id": "X_lWbtrrqAhf",
        "outputId": "32d590ae-45b8-4366-a2f5-83c4183a1e83"
      },
      "execution_count": null,
      "outputs": [
        {
          "output_type": "stream",
          "name": "stderr",
          "text": [
            "100%|██████████| 16/16 [00:00<00:00, 121.86it/s]\n"
          ]
        }
      ]
    },
    {
      "cell_type": "code",
      "source": [
        "from scipy.special import expit\n",
        "probs = expit(scores)\n",
        "\n",
        "pd.DataFrame(list(zip([' '.join(x) for x in X_game], \n",
        "                      ranks_unseen, \n",
        "                      np.squeeze(scores),\n",
        "                      np.squeeze(probs))), \n",
        "             columns=['statement', 'rank', 'score', 'prob']).sort_values(\"score\")"
      ],
      "metadata": {
        "colab": {
          "base_uri": "https://localhost:8080/",
          "height": 551
        },
        "id": "4JNEkxADqEpo",
        "outputId": "936840a7-4202-4905-b9b9-9fc75a790521"
      },
      "execution_count": null,
      "outputs": [
        {
          "output_type": "execute_result",
          "data": {
            "text/html": [
              "\n",
              "  <div id=\"df-ae9bb1c0-0ec9-4d7d-a740-7634302ce727\">\n",
              "    <div class=\"colab-df-container\">\n",
              "      <div>\n",
              "<style scoped>\n",
              "    .dataframe tbody tr th:only-of-type {\n",
              "        vertical-align: middle;\n",
              "    }\n",
              "\n",
              "    .dataframe tbody tr th {\n",
              "        vertical-align: top;\n",
              "    }\n",
              "\n",
              "    .dataframe thead th {\n",
              "        text-align: right;\n",
              "    }\n",
              "</style>\n",
              "<table border=\"1\" class=\"dataframe\">\n",
              "  <thead>\n",
              "    <tr style=\"text-align: right;\">\n",
              "      <th></th>\n",
              "      <th>statement</th>\n",
              "      <th>rank</th>\n",
              "      <th>score</th>\n",
              "      <th>prob</th>\n",
              "    </tr>\n",
              "  </thead>\n",
              "  <tbody>\n",
              "    <tr>\n",
              "      <th>7</th>\n",
              "      <td>P002 like BATTLEFIELD</td>\n",
              "      <td>663</td>\n",
              "      <td>-2.743099</td>\n",
              "      <td>0.060478</td>\n",
              "    </tr>\n",
              "    <tr>\n",
              "      <th>6</th>\n",
              "      <td>P002 like UNO ONLINE</td>\n",
              "      <td>657</td>\n",
              "      <td>-2.526548</td>\n",
              "      <td>0.074018</td>\n",
              "    </tr>\n",
              "    <tr>\n",
              "      <th>4</th>\n",
              "      <td>P002 like PUBG</td>\n",
              "      <td>656</td>\n",
              "      <td>-2.444507</td>\n",
              "      <td>0.079841</td>\n",
              "    </tr>\n",
              "    <tr>\n",
              "      <th>12</th>\n",
              "      <td>P004 like CIVILIZATION</td>\n",
              "      <td>453</td>\n",
              "      <td>-0.532454</td>\n",
              "      <td>0.369945</td>\n",
              "    </tr>\n",
              "    <tr>\n",
              "      <th>11</th>\n",
              "      <td>P003 like PANGYA</td>\n",
              "      <td>469</td>\n",
              "      <td>-0.502828</td>\n",
              "      <td>0.376876</td>\n",
              "    </tr>\n",
              "    <tr>\n",
              "      <th>15</th>\n",
              "      <td>P004 like CITIES SKYLINE</td>\n",
              "      <td>415</td>\n",
              "      <td>-0.435469</td>\n",
              "      <td>0.392821</td>\n",
              "    </tr>\n",
              "    <tr>\n",
              "      <th>3</th>\n",
              "      <td>P001 like ALIEN SHOOTER</td>\n",
              "      <td>395</td>\n",
              "      <td>-0.275530</td>\n",
              "      <td>0.431550</td>\n",
              "    </tr>\n",
              "    <tr>\n",
              "      <th>1</th>\n",
              "      <td>P001 like WARCRAFT</td>\n",
              "      <td>152</td>\n",
              "      <td>0.902734</td>\n",
              "      <td>0.711511</td>\n",
              "    </tr>\n",
              "    <tr>\n",
              "      <th>13</th>\n",
              "      <td>P004 like FIFA</td>\n",
              "      <td>87</td>\n",
              "      <td>2.404091</td>\n",
              "      <td>0.917139</td>\n",
              "    </tr>\n",
              "    <tr>\n",
              "      <th>10</th>\n",
              "      <td>P003 like CALL OF CTHULU</td>\n",
              "      <td>94</td>\n",
              "      <td>2.420952</td>\n",
              "      <td>0.918411</td>\n",
              "    </tr>\n",
              "    <tr>\n",
              "      <th>2</th>\n",
              "      <td>P001 like MAPLE STORY</td>\n",
              "      <td>56</td>\n",
              "      <td>3.013033</td>\n",
              "      <td>0.953160</td>\n",
              "    </tr>\n",
              "    <tr>\n",
              "      <th>9</th>\n",
              "      <td>P003 like LOL</td>\n",
              "      <td>47</td>\n",
              "      <td>4.217220</td>\n",
              "      <td>0.985475</td>\n",
              "    </tr>\n",
              "    <tr>\n",
              "      <th>14</th>\n",
              "      <td>P004 like GENSHIN IMPACT</td>\n",
              "      <td>46</td>\n",
              "      <td>4.299984</td>\n",
              "      <td>0.986613</td>\n",
              "    </tr>\n",
              "    <tr>\n",
              "      <th>8</th>\n",
              "      <td>P003 like WALKR</td>\n",
              "      <td>12</td>\n",
              "      <td>5.665615</td>\n",
              "      <td>0.996549</td>\n",
              "    </tr>\n",
              "    <tr>\n",
              "      <th>0</th>\n",
              "      <td>P001 like ROV</td>\n",
              "      <td>1</td>\n",
              "      <td>6.266132</td>\n",
              "      <td>0.998104</td>\n",
              "    </tr>\n",
              "    <tr>\n",
              "      <th>5</th>\n",
              "      <td>P002 like DOTA</td>\n",
              "      <td>1</td>\n",
              "      <td>13.314637</td>\n",
              "      <td>0.999998</td>\n",
              "    </tr>\n",
              "  </tbody>\n",
              "</table>\n",
              "</div>\n",
              "      <button class=\"colab-df-convert\" onclick=\"convertToInteractive('df-ae9bb1c0-0ec9-4d7d-a740-7634302ce727')\"\n",
              "              title=\"Convert this dataframe to an interactive table.\"\n",
              "              style=\"display:none;\">\n",
              "        \n",
              "  <svg xmlns=\"http://www.w3.org/2000/svg\" height=\"24px\"viewBox=\"0 0 24 24\"\n",
              "       width=\"24px\">\n",
              "    <path d=\"M0 0h24v24H0V0z\" fill=\"none\"/>\n",
              "    <path d=\"M18.56 5.44l.94 2.06.94-2.06 2.06-.94-2.06-.94-.94-2.06-.94 2.06-2.06.94zm-11 1L8.5 8.5l.94-2.06 2.06-.94-2.06-.94L8.5 2.5l-.94 2.06-2.06.94zm10 10l.94 2.06.94-2.06 2.06-.94-2.06-.94-.94-2.06-.94 2.06-2.06.94z\"/><path d=\"M17.41 7.96l-1.37-1.37c-.4-.4-.92-.59-1.43-.59-.52 0-1.04.2-1.43.59L10.3 9.45l-7.72 7.72c-.78.78-.78 2.05 0 2.83L4 21.41c.39.39.9.59 1.41.59.51 0 1.02-.2 1.41-.59l7.78-7.78 2.81-2.81c.8-.78.8-2.07 0-2.86zM5.41 20L4 18.59l7.72-7.72 1.47 1.35L5.41 20z\"/>\n",
              "  </svg>\n",
              "      </button>\n",
              "      \n",
              "  <style>\n",
              "    .colab-df-container {\n",
              "      display:flex;\n",
              "      flex-wrap:wrap;\n",
              "      gap: 12px;\n",
              "    }\n",
              "\n",
              "    .colab-df-convert {\n",
              "      background-color: #E8F0FE;\n",
              "      border: none;\n",
              "      border-radius: 50%;\n",
              "      cursor: pointer;\n",
              "      display: none;\n",
              "      fill: #1967D2;\n",
              "      height: 32px;\n",
              "      padding: 0 0 0 0;\n",
              "      width: 32px;\n",
              "    }\n",
              "\n",
              "    .colab-df-convert:hover {\n",
              "      background-color: #E2EBFA;\n",
              "      box-shadow: 0px 1px 2px rgba(60, 64, 67, 0.3), 0px 1px 3px 1px rgba(60, 64, 67, 0.15);\n",
              "      fill: #174EA6;\n",
              "    }\n",
              "\n",
              "    [theme=dark] .colab-df-convert {\n",
              "      background-color: #3B4455;\n",
              "      fill: #D2E3FC;\n",
              "    }\n",
              "\n",
              "    [theme=dark] .colab-df-convert:hover {\n",
              "      background-color: #434B5C;\n",
              "      box-shadow: 0px 1px 3px 1px rgba(0, 0, 0, 0.15);\n",
              "      filter: drop-shadow(0px 1px 2px rgba(0, 0, 0, 0.3));\n",
              "      fill: #FFFFFF;\n",
              "    }\n",
              "  </style>\n",
              "\n",
              "      <script>\n",
              "        const buttonEl =\n",
              "          document.querySelector('#df-ae9bb1c0-0ec9-4d7d-a740-7634302ce727 button.colab-df-convert');\n",
              "        buttonEl.style.display =\n",
              "          google.colab.kernel.accessAllowed ? 'block' : 'none';\n",
              "\n",
              "        async function convertToInteractive(key) {\n",
              "          const element = document.querySelector('#df-ae9bb1c0-0ec9-4d7d-a740-7634302ce727');\n",
              "          const dataTable =\n",
              "            await google.colab.kernel.invokeFunction('convertToInteractive',\n",
              "                                                     [key], {});\n",
              "          if (!dataTable) return;\n",
              "\n",
              "          const docLinkHtml = 'Like what you see? Visit the ' +\n",
              "            '<a target=\"_blank\" href=https://colab.research.google.com/notebooks/data_table.ipynb>data table notebook</a>'\n",
              "            + ' to learn more about interactive tables.';\n",
              "          element.innerHTML = '';\n",
              "          dataTable['output_type'] = 'display_data';\n",
              "          await google.colab.output.renderOutput(dataTable, element);\n",
              "          const docLink = document.createElement('div');\n",
              "          docLink.innerHTML = docLinkHtml;\n",
              "          element.appendChild(docLink);\n",
              "        }\n",
              "      </script>\n",
              "    </div>\n",
              "  </div>\n",
              "  "
            ],
            "text/plain": [
              "                   statement  rank      score      prob\n",
              "7      P002 like BATTLEFIELD   663  -2.743099  0.060478\n",
              "6       P002 like UNO ONLINE   657  -2.526548  0.074018\n",
              "4             P002 like PUBG   656  -2.444507  0.079841\n",
              "12    P004 like CIVILIZATION   453  -0.532454  0.369945\n",
              "11          P003 like PANGYA   469  -0.502828  0.376876\n",
              "15  P004 like CITIES SKYLINE   415  -0.435469  0.392821\n",
              "3    P001 like ALIEN SHOOTER   395  -0.275530  0.431550\n",
              "1         P001 like WARCRAFT   152   0.902734  0.711511\n",
              "13            P004 like FIFA    87   2.404091  0.917139\n",
              "10  P003 like CALL OF CTHULU    94   2.420952  0.918411\n",
              "2      P001 like MAPLE STORY    56   3.013033  0.953160\n",
              "9              P003 like LOL    47   4.217220  0.985475\n",
              "14  P004 like GENSHIN IMPACT    46   4.299984  0.986613\n",
              "8            P003 like WALKR    12   5.665615  0.996549\n",
              "0              P001 like ROV     1   6.266132  0.998104\n",
              "5             P002 like DOTA     1  13.314637  0.999998"
            ]
          },
          "metadata": {},
          "execution_count": 93
        }
      ]
    },
    {
      "cell_type": "code",
      "source": [
        "X_movie = np.array([\n",
        "    ['P001', 'like', 'MONEY HEIST'],\n",
        "    ['P001', 'like', 'KINGDOM'],\n",
        "    ['P001', 'like', 'MY NAME'],\n",
        "    ['P001', 'like', 'W: TWO WORLD'],\n",
        "    ['P002', 'like', 'CRYING OUT LOVE IN THE CENTER OF THE WORLD'],\n",
        "    ['P002', 'like', 'SQUID GAME'],\n",
        "    ['P002', 'like', 'HOW I MET YOUR MOTHER'],\n",
        "    ['P002', 'like', 'REMEMBER : WAR OF THE SON'],\n",
        "    ['P003', 'like', 'CRYING OUT LOVE IN THE CENTER OF THE WORLD'],\n",
        "    ['P003', 'like', 'THE DEADLINE'],\n",
        "    ['P003', 'like', 'ARCANE'],\n",
        "    ['P003', 'like', 'HOW I MET YOUR MOTHER'],\n",
        "    ['P004', 'like', 'REMEMBER : WAR OF THE SON'],\n",
        "    ['P004', 'like', 'ITAEWON CLASS'],\n",
        "    ['P004', 'like', 'IN FAMILY WE TRUST'],\n",
        "\n",
        "])"
      ],
      "metadata": {
        "id": "yjhXPVaKaC0D"
      },
      "execution_count": null,
      "outputs": []
    },
    {
      "cell_type": "code",
      "source": [
        "movie_filter = np.array(list({tuple(i) for i in np.vstack((positives_filter, X_movie))}))\n",
        "\n",
        "ranks_unseen = evaluate_performance(\n",
        "    X_movie, \n",
        "    model=model, \n",
        "    filter_triples=movie_filter,   # Corruption strategy filter defined above \n",
        "    corrupt_side = 's+o',\n",
        "    use_default_protocol=False, # corrupt subj and obj separately while evaluating\n",
        "    verbose=True\n",
        ")\n",
        "\n",
        "scores = model.predict(X_movie)"
      ],
      "metadata": {
        "colab": {
          "base_uri": "https://localhost:8080/"
        },
        "id": "iHQBYH5qqI61",
        "outputId": "65cdf498-6dfd-476f-ad00-c5eccd5cc252"
      },
      "execution_count": null,
      "outputs": [
        {
          "output_type": "stream",
          "name": "stderr",
          "text": [
            "100%|██████████| 15/15 [00:00<00:00, 134.16it/s]\n"
          ]
        }
      ]
    },
    {
      "cell_type": "code",
      "source": [
        "from scipy.special import expit\n",
        "probs = expit(scores)\n",
        "\n",
        "pd.DataFrame(list(zip([' '.join(x) for x in X_movie], \n",
        "                      ranks_unseen, \n",
        "                      np.squeeze(scores),\n",
        "                      np.squeeze(probs))), \n",
        "             columns=['statement', 'rank', 'score', 'prob']).sort_values(\"score\")"
      ],
      "metadata": {
        "colab": {
          "base_uri": "https://localhost:8080/",
          "height": 520
        },
        "id": "sSAGMGhiqHvy",
        "outputId": "319063c6-80c4-4ed5-e7fb-9cb66e547266"
      },
      "execution_count": null,
      "outputs": [
        {
          "output_type": "execute_result",
          "data": {
            "text/html": [
              "\n",
              "  <div id=\"df-72c9334a-4cff-4061-963a-fe19b7d2b90a\">\n",
              "    <div class=\"colab-df-container\">\n",
              "      <div>\n",
              "<style scoped>\n",
              "    .dataframe tbody tr th:only-of-type {\n",
              "        vertical-align: middle;\n",
              "    }\n",
              "\n",
              "    .dataframe tbody tr th {\n",
              "        vertical-align: top;\n",
              "    }\n",
              "\n",
              "    .dataframe thead th {\n",
              "        text-align: right;\n",
              "    }\n",
              "</style>\n",
              "<table border=\"1\" class=\"dataframe\">\n",
              "  <thead>\n",
              "    <tr style=\"text-align: right;\">\n",
              "      <th></th>\n",
              "      <th>statement</th>\n",
              "      <th>rank</th>\n",
              "      <th>score</th>\n",
              "      <th>prob</th>\n",
              "    </tr>\n",
              "  </thead>\n",
              "  <tbody>\n",
              "    <tr>\n",
              "      <th>5</th>\n",
              "      <td>P002 like SQUID GAME</td>\n",
              "      <td>666</td>\n",
              "      <td>-2.702368</td>\n",
              "      <td>0.062834</td>\n",
              "    </tr>\n",
              "    <tr>\n",
              "      <th>13</th>\n",
              "      <td>P004 like ITAEWON CLASS</td>\n",
              "      <td>579</td>\n",
              "      <td>-1.474214</td>\n",
              "      <td>0.186303</td>\n",
              "    </tr>\n",
              "    <tr>\n",
              "      <th>8</th>\n",
              "      <td>P003 like CRYING OUT LOVE IN THE CENTER OF THE...</td>\n",
              "      <td>263</td>\n",
              "      <td>0.154937</td>\n",
              "      <td>0.538657</td>\n",
              "    </tr>\n",
              "    <tr>\n",
              "      <th>14</th>\n",
              "      <td>P004 like IN FAMILY WE TRUST</td>\n",
              "      <td>228</td>\n",
              "      <td>0.312079</td>\n",
              "      <td>0.577393</td>\n",
              "    </tr>\n",
              "    <tr>\n",
              "      <th>4</th>\n",
              "      <td>P002 like CRYING OUT LOVE IN THE CENTER OF THE...</td>\n",
              "      <td>225</td>\n",
              "      <td>0.589824</td>\n",
              "      <td>0.643325</td>\n",
              "    </tr>\n",
              "    <tr>\n",
              "      <th>3</th>\n",
              "      <td>P001 like W: TWO WORLD</td>\n",
              "      <td>121</td>\n",
              "      <td>1.369534</td>\n",
              "      <td>0.797305</td>\n",
              "    </tr>\n",
              "    <tr>\n",
              "      <th>10</th>\n",
              "      <td>P003 like ARCANE</td>\n",
              "      <td>121</td>\n",
              "      <td>1.484132</td>\n",
              "      <td>0.815196</td>\n",
              "    </tr>\n",
              "    <tr>\n",
              "      <th>6</th>\n",
              "      <td>P002 like HOW I MET YOUR MOTHER</td>\n",
              "      <td>128</td>\n",
              "      <td>1.716645</td>\n",
              "      <td>0.847696</td>\n",
              "    </tr>\n",
              "    <tr>\n",
              "      <th>11</th>\n",
              "      <td>P003 like HOW I MET YOUR MOTHER</td>\n",
              "      <td>93</td>\n",
              "      <td>2.216582</td>\n",
              "      <td>0.901729</td>\n",
              "    </tr>\n",
              "    <tr>\n",
              "      <th>2</th>\n",
              "      <td>P001 like MY NAME</td>\n",
              "      <td>35</td>\n",
              "      <td>3.632476</td>\n",
              "      <td>0.974231</td>\n",
              "    </tr>\n",
              "    <tr>\n",
              "      <th>1</th>\n",
              "      <td>P001 like KINGDOM</td>\n",
              "      <td>30</td>\n",
              "      <td>3.736121</td>\n",
              "      <td>0.976709</td>\n",
              "    </tr>\n",
              "    <tr>\n",
              "      <th>12</th>\n",
              "      <td>P004 like REMEMBER : WAR OF THE SON</td>\n",
              "      <td>44</td>\n",
              "      <td>4.142164</td>\n",
              "      <td>0.984360</td>\n",
              "    </tr>\n",
              "    <tr>\n",
              "      <th>9</th>\n",
              "      <td>P003 like THE DEADLINE</td>\n",
              "      <td>28</td>\n",
              "      <td>4.861326</td>\n",
              "      <td>0.992319</td>\n",
              "    </tr>\n",
              "    <tr>\n",
              "      <th>7</th>\n",
              "      <td>P002 like REMEMBER : WAR OF THE SON</td>\n",
              "      <td>58</td>\n",
              "      <td>4.917194</td>\n",
              "      <td>0.992733</td>\n",
              "    </tr>\n",
              "    <tr>\n",
              "      <th>0</th>\n",
              "      <td>P001 like MONEY HEIST</td>\n",
              "      <td>1</td>\n",
              "      <td>9.918984</td>\n",
              "      <td>0.999951</td>\n",
              "    </tr>\n",
              "  </tbody>\n",
              "</table>\n",
              "</div>\n",
              "      <button class=\"colab-df-convert\" onclick=\"convertToInteractive('df-72c9334a-4cff-4061-963a-fe19b7d2b90a')\"\n",
              "              title=\"Convert this dataframe to an interactive table.\"\n",
              "              style=\"display:none;\">\n",
              "        \n",
              "  <svg xmlns=\"http://www.w3.org/2000/svg\" height=\"24px\"viewBox=\"0 0 24 24\"\n",
              "       width=\"24px\">\n",
              "    <path d=\"M0 0h24v24H0V0z\" fill=\"none\"/>\n",
              "    <path d=\"M18.56 5.44l.94 2.06.94-2.06 2.06-.94-2.06-.94-.94-2.06-.94 2.06-2.06.94zm-11 1L8.5 8.5l.94-2.06 2.06-.94-2.06-.94L8.5 2.5l-.94 2.06-2.06.94zm10 10l.94 2.06.94-2.06 2.06-.94-2.06-.94-.94-2.06-.94 2.06-2.06.94z\"/><path d=\"M17.41 7.96l-1.37-1.37c-.4-.4-.92-.59-1.43-.59-.52 0-1.04.2-1.43.59L10.3 9.45l-7.72 7.72c-.78.78-.78 2.05 0 2.83L4 21.41c.39.39.9.59 1.41.59.51 0 1.02-.2 1.41-.59l7.78-7.78 2.81-2.81c.8-.78.8-2.07 0-2.86zM5.41 20L4 18.59l7.72-7.72 1.47 1.35L5.41 20z\"/>\n",
              "  </svg>\n",
              "      </button>\n",
              "      \n",
              "  <style>\n",
              "    .colab-df-container {\n",
              "      display:flex;\n",
              "      flex-wrap:wrap;\n",
              "      gap: 12px;\n",
              "    }\n",
              "\n",
              "    .colab-df-convert {\n",
              "      background-color: #E8F0FE;\n",
              "      border: none;\n",
              "      border-radius: 50%;\n",
              "      cursor: pointer;\n",
              "      display: none;\n",
              "      fill: #1967D2;\n",
              "      height: 32px;\n",
              "      padding: 0 0 0 0;\n",
              "      width: 32px;\n",
              "    }\n",
              "\n",
              "    .colab-df-convert:hover {\n",
              "      background-color: #E2EBFA;\n",
              "      box-shadow: 0px 1px 2px rgba(60, 64, 67, 0.3), 0px 1px 3px 1px rgba(60, 64, 67, 0.15);\n",
              "      fill: #174EA6;\n",
              "    }\n",
              "\n",
              "    [theme=dark] .colab-df-convert {\n",
              "      background-color: #3B4455;\n",
              "      fill: #D2E3FC;\n",
              "    }\n",
              "\n",
              "    [theme=dark] .colab-df-convert:hover {\n",
              "      background-color: #434B5C;\n",
              "      box-shadow: 0px 1px 3px 1px rgba(0, 0, 0, 0.15);\n",
              "      filter: drop-shadow(0px 1px 2px rgba(0, 0, 0, 0.3));\n",
              "      fill: #FFFFFF;\n",
              "    }\n",
              "  </style>\n",
              "\n",
              "      <script>\n",
              "        const buttonEl =\n",
              "          document.querySelector('#df-72c9334a-4cff-4061-963a-fe19b7d2b90a button.colab-df-convert');\n",
              "        buttonEl.style.display =\n",
              "          google.colab.kernel.accessAllowed ? 'block' : 'none';\n",
              "\n",
              "        async function convertToInteractive(key) {\n",
              "          const element = document.querySelector('#df-72c9334a-4cff-4061-963a-fe19b7d2b90a');\n",
              "          const dataTable =\n",
              "            await google.colab.kernel.invokeFunction('convertToInteractive',\n",
              "                                                     [key], {});\n",
              "          if (!dataTable) return;\n",
              "\n",
              "          const docLinkHtml = 'Like what you see? Visit the ' +\n",
              "            '<a target=\"_blank\" href=https://colab.research.google.com/notebooks/data_table.ipynb>data table notebook</a>'\n",
              "            + ' to learn more about interactive tables.';\n",
              "          element.innerHTML = '';\n",
              "          dataTable['output_type'] = 'display_data';\n",
              "          await google.colab.output.renderOutput(dataTable, element);\n",
              "          const docLink = document.createElement('div');\n",
              "          docLink.innerHTML = docLinkHtml;\n",
              "          element.appendChild(docLink);\n",
              "        }\n",
              "      </script>\n",
              "    </div>\n",
              "  </div>\n",
              "  "
            ],
            "text/plain": [
              "                                            statement  rank     score      prob\n",
              "5                                P002 like SQUID GAME   666 -2.702368  0.062834\n",
              "13                            P004 like ITAEWON CLASS   579 -1.474214  0.186303\n",
              "8   P003 like CRYING OUT LOVE IN THE CENTER OF THE...   263  0.154937  0.538657\n",
              "14                       P004 like IN FAMILY WE TRUST   228  0.312079  0.577393\n",
              "4   P002 like CRYING OUT LOVE IN THE CENTER OF THE...   225  0.589824  0.643325\n",
              "3                              P001 like W: TWO WORLD   121  1.369534  0.797305\n",
              "10                                   P003 like ARCANE   121  1.484132  0.815196\n",
              "6                     P002 like HOW I MET YOUR MOTHER   128  1.716645  0.847696\n",
              "11                    P003 like HOW I MET YOUR MOTHER    93  2.216582  0.901729\n",
              "2                                   P001 like MY NAME    35  3.632476  0.974231\n",
              "1                                   P001 like KINGDOM    30  3.736121  0.976709\n",
              "12                P004 like REMEMBER : WAR OF THE SON    44  4.142164  0.984360\n",
              "9                              P003 like THE DEADLINE    28  4.861326  0.992319\n",
              "7                 P002 like REMEMBER : WAR OF THE SON    58  4.917194  0.992733\n",
              "0                               P001 like MONEY HEIST     1  9.918984  0.999951"
            ]
          },
          "metadata": {},
          "execution_count": 101
        }
      ]
    },
    {
      "cell_type": "code",
      "source": [
        "X_friend = np.array([\n",
        "    ['P001', 'friend with', 'P002'],\n",
        "    ['P001', 'friend with', 'P004'],\n",
        "    ['P001', 'friend with', 'P010'],\n",
        "    ['P001', 'friend with', 'P012'],\n",
        "    ['P002', 'friend with', 'P003'],\n",
        "    ['P002', 'friend with', 'P006'],\n",
        "    ['P002', 'friend with', 'P008'],\n",
        "    ['P002', 'friend with', 'P010'],\n",
        "    ['P003', 'friend with', 'P004'],\n",
        "    ['P003', 'friend with', 'P007'],\n",
        "    ['P003', 'friend with', 'P008'],\n",
        "    ['P003', 'friend with', 'P010'],\n",
        "    ['P004', 'friend with', 'P005'],\n",
        "    ['P004', 'friend with', 'P009'],\n",
        "    ['P004', 'friend with', 'P010'],\n",
        "    ['P004', 'friend with', 'P012'],\n",
        "\n",
        "])"
      ],
      "metadata": {
        "id": "x4lDA-S6aFpD"
      },
      "execution_count": null,
      "outputs": []
    },
    {
      "cell_type": "code",
      "source": [
        "friend_filter = np.array(list({tuple(i) for i in np.vstack((positives_filter, X_friend))}))\n",
        "\n",
        "ranks_unseen = evaluate_performance(\n",
        "    X_friend, \n",
        "    model=model, \n",
        "    filter_triples=friend_filter,   # Corruption strategy filter defined above \n",
        "    corrupt_side = 's+o',\n",
        "    use_default_protocol=False, # corrupt subj and obj separately while evaluating\n",
        "    verbose=True\n",
        ")\n",
        "\n",
        "scores = model.predict(X_friend)"
      ],
      "metadata": {
        "id": "LNAJvqv4pL2-",
        "colab": {
          "base_uri": "https://localhost:8080/"
        },
        "outputId": "332d8f5c-bf25-4e11-d269-d69db0e17271"
      },
      "execution_count": null,
      "outputs": [
        {
          "output_type": "stream",
          "name": "stderr",
          "text": [
            "100%|██████████| 16/16 [00:00<00:00, 139.15it/s]\n"
          ]
        }
      ]
    },
    {
      "cell_type": "code",
      "source": [
        "from scipy.special import expit\n",
        "probs = expit(scores)\n",
        "\n",
        "pd.DataFrame(list(zip([' '.join(x) for x in X_friend], \n",
        "                      ranks_unseen, \n",
        "                      np.squeeze(scores),\n",
        "                      np.squeeze(probs))), \n",
        "             columns=['statement', 'rank', 'score', 'prob']).sort_values(\"score\")"
      ],
      "metadata": {
        "colab": {
          "base_uri": "https://localhost:8080/",
          "height": 551
        },
        "id": "zD79mCG4qa8Y",
        "outputId": "ae57ceab-429c-4869-f9df-b9c795cfd267"
      },
      "execution_count": null,
      "outputs": [
        {
          "output_type": "execute_result",
          "data": {
            "text/html": [
              "\n",
              "  <div id=\"df-802725bf-58bb-4d7d-a2ec-d244990fe513\">\n",
              "    <div class=\"colab-df-container\">\n",
              "      <div>\n",
              "<style scoped>\n",
              "    .dataframe tbody tr th:only-of-type {\n",
              "        vertical-align: middle;\n",
              "    }\n",
              "\n",
              "    .dataframe tbody tr th {\n",
              "        vertical-align: top;\n",
              "    }\n",
              "\n",
              "    .dataframe thead th {\n",
              "        text-align: right;\n",
              "    }\n",
              "</style>\n",
              "<table border=\"1\" class=\"dataframe\">\n",
              "  <thead>\n",
              "    <tr style=\"text-align: right;\">\n",
              "      <th></th>\n",
              "      <th>statement</th>\n",
              "      <th>rank</th>\n",
              "      <th>score</th>\n",
              "      <th>prob</th>\n",
              "    </tr>\n",
              "  </thead>\n",
              "  <tbody>\n",
              "    <tr>\n",
              "      <th>12</th>\n",
              "      <td>P004 friend with P005</td>\n",
              "      <td>49</td>\n",
              "      <td>1.136556</td>\n",
              "      <td>0.757047</td>\n",
              "    </tr>\n",
              "    <tr>\n",
              "      <th>2</th>\n",
              "      <td>P001 friend with P010</td>\n",
              "      <td>11</td>\n",
              "      <td>2.571274</td>\n",
              "      <td>0.928990</td>\n",
              "    </tr>\n",
              "    <tr>\n",
              "      <th>13</th>\n",
              "      <td>P004 friend with P009</td>\n",
              "      <td>14</td>\n",
              "      <td>2.592531</td>\n",
              "      <td>0.930379</td>\n",
              "    </tr>\n",
              "    <tr>\n",
              "      <th>10</th>\n",
              "      <td>P003 friend with P008</td>\n",
              "      <td>15</td>\n",
              "      <td>2.975673</td>\n",
              "      <td>0.951463</td>\n",
              "    </tr>\n",
              "    <tr>\n",
              "      <th>9</th>\n",
              "      <td>P003 friend with P007</td>\n",
              "      <td>15</td>\n",
              "      <td>3.321455</td>\n",
              "      <td>0.965158</td>\n",
              "    </tr>\n",
              "    <tr>\n",
              "      <th>1</th>\n",
              "      <td>P001 friend with P004</td>\n",
              "      <td>11</td>\n",
              "      <td>3.939374</td>\n",
              "      <td>0.980911</td>\n",
              "    </tr>\n",
              "    <tr>\n",
              "      <th>5</th>\n",
              "      <td>P002 friend with P006</td>\n",
              "      <td>7</td>\n",
              "      <td>4.816803</td>\n",
              "      <td>0.991972</td>\n",
              "    </tr>\n",
              "    <tr>\n",
              "      <th>8</th>\n",
              "      <td>P003 friend with P004</td>\n",
              "      <td>4</td>\n",
              "      <td>5.947003</td>\n",
              "      <td>0.997393</td>\n",
              "    </tr>\n",
              "    <tr>\n",
              "      <th>15</th>\n",
              "      <td>P004 friend with P012</td>\n",
              "      <td>4</td>\n",
              "      <td>6.158432</td>\n",
              "      <td>0.997889</td>\n",
              "    </tr>\n",
              "    <tr>\n",
              "      <th>14</th>\n",
              "      <td>P004 friend with P010</td>\n",
              "      <td>3</td>\n",
              "      <td>6.343264</td>\n",
              "      <td>0.998245</td>\n",
              "    </tr>\n",
              "    <tr>\n",
              "      <th>7</th>\n",
              "      <td>P002 friend with P010</td>\n",
              "      <td>3</td>\n",
              "      <td>6.539840</td>\n",
              "      <td>0.998557</td>\n",
              "    </tr>\n",
              "    <tr>\n",
              "      <th>11</th>\n",
              "      <td>P003 friend with P010</td>\n",
              "      <td>1</td>\n",
              "      <td>6.950641</td>\n",
              "      <td>0.999043</td>\n",
              "    </tr>\n",
              "    <tr>\n",
              "      <th>3</th>\n",
              "      <td>P001 friend with P012</td>\n",
              "      <td>1</td>\n",
              "      <td>7.099317</td>\n",
              "      <td>0.999175</td>\n",
              "    </tr>\n",
              "    <tr>\n",
              "      <th>0</th>\n",
              "      <td>P001 friend with P002</td>\n",
              "      <td>3</td>\n",
              "      <td>7.704402</td>\n",
              "      <td>0.999549</td>\n",
              "    </tr>\n",
              "    <tr>\n",
              "      <th>6</th>\n",
              "      <td>P002 friend with P008</td>\n",
              "      <td>1</td>\n",
              "      <td>9.201309</td>\n",
              "      <td>0.999899</td>\n",
              "    </tr>\n",
              "    <tr>\n",
              "      <th>4</th>\n",
              "      <td>P002 friend with P003</td>\n",
              "      <td>1</td>\n",
              "      <td>13.594211</td>\n",
              "      <td>0.999999</td>\n",
              "    </tr>\n",
              "  </tbody>\n",
              "</table>\n",
              "</div>\n",
              "      <button class=\"colab-df-convert\" onclick=\"convertToInteractive('df-802725bf-58bb-4d7d-a2ec-d244990fe513')\"\n",
              "              title=\"Convert this dataframe to an interactive table.\"\n",
              "              style=\"display:none;\">\n",
              "        \n",
              "  <svg xmlns=\"http://www.w3.org/2000/svg\" height=\"24px\"viewBox=\"0 0 24 24\"\n",
              "       width=\"24px\">\n",
              "    <path d=\"M0 0h24v24H0V0z\" fill=\"none\"/>\n",
              "    <path d=\"M18.56 5.44l.94 2.06.94-2.06 2.06-.94-2.06-.94-.94-2.06-.94 2.06-2.06.94zm-11 1L8.5 8.5l.94-2.06 2.06-.94-2.06-.94L8.5 2.5l-.94 2.06-2.06.94zm10 10l.94 2.06.94-2.06 2.06-.94-2.06-.94-.94-2.06-.94 2.06-2.06.94z\"/><path d=\"M17.41 7.96l-1.37-1.37c-.4-.4-.92-.59-1.43-.59-.52 0-1.04.2-1.43.59L10.3 9.45l-7.72 7.72c-.78.78-.78 2.05 0 2.83L4 21.41c.39.39.9.59 1.41.59.51 0 1.02-.2 1.41-.59l7.78-7.78 2.81-2.81c.8-.78.8-2.07 0-2.86zM5.41 20L4 18.59l7.72-7.72 1.47 1.35L5.41 20z\"/>\n",
              "  </svg>\n",
              "      </button>\n",
              "      \n",
              "  <style>\n",
              "    .colab-df-container {\n",
              "      display:flex;\n",
              "      flex-wrap:wrap;\n",
              "      gap: 12px;\n",
              "    }\n",
              "\n",
              "    .colab-df-convert {\n",
              "      background-color: #E8F0FE;\n",
              "      border: none;\n",
              "      border-radius: 50%;\n",
              "      cursor: pointer;\n",
              "      display: none;\n",
              "      fill: #1967D2;\n",
              "      height: 32px;\n",
              "      padding: 0 0 0 0;\n",
              "      width: 32px;\n",
              "    }\n",
              "\n",
              "    .colab-df-convert:hover {\n",
              "      background-color: #E2EBFA;\n",
              "      box-shadow: 0px 1px 2px rgba(60, 64, 67, 0.3), 0px 1px 3px 1px rgba(60, 64, 67, 0.15);\n",
              "      fill: #174EA6;\n",
              "    }\n",
              "\n",
              "    [theme=dark] .colab-df-convert {\n",
              "      background-color: #3B4455;\n",
              "      fill: #D2E3FC;\n",
              "    }\n",
              "\n",
              "    [theme=dark] .colab-df-convert:hover {\n",
              "      background-color: #434B5C;\n",
              "      box-shadow: 0px 1px 3px 1px rgba(0, 0, 0, 0.15);\n",
              "      filter: drop-shadow(0px 1px 2px rgba(0, 0, 0, 0.3));\n",
              "      fill: #FFFFFF;\n",
              "    }\n",
              "  </style>\n",
              "\n",
              "      <script>\n",
              "        const buttonEl =\n",
              "          document.querySelector('#df-802725bf-58bb-4d7d-a2ec-d244990fe513 button.colab-df-convert');\n",
              "        buttonEl.style.display =\n",
              "          google.colab.kernel.accessAllowed ? 'block' : 'none';\n",
              "\n",
              "        async function convertToInteractive(key) {\n",
              "          const element = document.querySelector('#df-802725bf-58bb-4d7d-a2ec-d244990fe513');\n",
              "          const dataTable =\n",
              "            await google.colab.kernel.invokeFunction('convertToInteractive',\n",
              "                                                     [key], {});\n",
              "          if (!dataTable) return;\n",
              "\n",
              "          const docLinkHtml = 'Like what you see? Visit the ' +\n",
              "            '<a target=\"_blank\" href=https://colab.research.google.com/notebooks/data_table.ipynb>data table notebook</a>'\n",
              "            + ' to learn more about interactive tables.';\n",
              "          element.innerHTML = '';\n",
              "          dataTable['output_type'] = 'display_data';\n",
              "          await google.colab.output.renderOutput(dataTable, element);\n",
              "          const docLink = document.createElement('div');\n",
              "          docLink.innerHTML = docLinkHtml;\n",
              "          element.appendChild(docLink);\n",
              "        }\n",
              "      </script>\n",
              "    </div>\n",
              "  </div>\n",
              "  "
            ],
            "text/plain": [
              "                statement  rank      score      prob\n",
              "12  P004 friend with P005    49   1.136556  0.757047\n",
              "2   P001 friend with P010    11   2.571274  0.928990\n",
              "13  P004 friend with P009    14   2.592531  0.930379\n",
              "10  P003 friend with P008    15   2.975673  0.951463\n",
              "9   P003 friend with P007    15   3.321455  0.965158\n",
              "1   P001 friend with P004    11   3.939374  0.980911\n",
              "5   P002 friend with P006     7   4.816803  0.991972\n",
              "8   P003 friend with P004     4   5.947003  0.997393\n",
              "15  P004 friend with P012     4   6.158432  0.997889\n",
              "14  P004 friend with P010     3   6.343264  0.998245\n",
              "7   P002 friend with P010     3   6.539840  0.998557\n",
              "11  P003 friend with P010     1   6.950641  0.999043\n",
              "3   P001 friend with P012     1   7.099317  0.999175\n",
              "0   P001 friend with P002     3   7.704402  0.999549\n",
              "6   P002 friend with P008     1   9.201309  0.999899\n",
              "4   P002 friend with P003     1  13.594211  0.999999"
            ]
          },
          "metadata": {},
          "execution_count": 98
        }
      ]
    },
    {
      "cell_type": "code",
      "source": [],
      "metadata": {
        "id": "8cbl5e1Froj3"
      },
      "execution_count": null,
      "outputs": []
    }
  ]
}